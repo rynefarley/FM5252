{
 "cells": [
  {
   "cell_type": "code",
   "execution_count": 7,
   "id": "8e6cc54e",
   "metadata": {},
   "outputs": [],
   "source": [
    "from sympy import *"
   ]
  },
  {
   "cell_type": "code",
   "execution_count": 8,
   "id": "d6ff9886",
   "metadata": {},
   "outputs": [],
   "source": [
    "from sympy import init_session"
   ]
  },
  {
   "cell_type": "code",
   "execution_count": 9,
   "id": "12ae465e",
   "metadata": {},
   "outputs": [],
   "source": [
    "S,K,r,vol,T = symbols('S,K,r,vol,T', real = True)"
   ]
  },
  {
   "cell_type": "code",
   "execution_count": 10,
   "id": "a66f8a5f",
   "metadata": {},
   "outputs": [],
   "source": [
    "# These are dummy variables to test formulas below\n",
    "#Seval =50\n",
    "#Keval =50\n",
    "#reval =0.05\n",
    "#voleval =0.5\n",
    "#Teval=1\n",
    "\n",
    "# d1 equation\n",
    "d1=(log(S/K)+(r +(vol ** 2)/2)*T)/(vol * sqrt(T))\n",
    "# d2 equation\n",
    "d2=(log(S/K)+(r +(vol ** 2)/2)*T)/(vol * sqrt(T)) - vol * sqrt(T)\n",
    "# call price equation\n",
    "callpx = S * (0.5 *(1 + erf(d1/sqrt(2))))-K * exp(-r*T) *(0.5*(1+erf(d2/sqrt(2))))\n",
    "# put price equation\n",
    "putpx = K * exp(-r*T) *(0.5*(1+erf(-d2/sqrt(2)))) - S * (0.5 *(1 + erf(-d1/sqrt(2))))\n",
    "# call delta equation\n",
    "calldelta = diff(callpx,S)\n",
    "# put delta equation\n",
    "putdelta = diff(callpx,S) - 1\n",
    "# gamma equation\n",
    "gamma = diff(calldelta,S)\n",
    "# vega equation\n",
    "vega = diff(callpx,vol)\n",
    "# call theta equation\n",
    "calltheta = diff(callpx,T)\n",
    "# put theta equation\n",
    "puttheta = diff(putpx,T)\n",
    "#call rho equation\n",
    "callrho = diff(callpx,r)\n",
    "# put rho equation\n",
    "putrho = diff(putpx,r)\n",
    "\n",
    "#These lines tested the formulas above using the dummy variables above\n",
    "#calcCprice=float(callpx.subs(S,Seval).subs(K,Keval).subs(r,reval).subs(vol,voleval).subs(T,Teval))\n",
    "#calcPprice=float(putpx.subs(S,Seval).subs(K,Keval).subs(r,reval).subs(vol,voleval).subs(T,Teval))\n",
    "#calcCdelta=float(calldelta.subs(S,Seval).subs(K,Keval).subs(r,reval).subs(vol,voleval).subs(T,Teval))\n",
    "#calcPdelta=float(putdelta.subs(S,Seval).subs(K,Keval).subs(r,reval).subs(vol,voleval).subs(T,Teval))\n",
    "#calcgamma=float(gamma.subs(S,Seval).subs(K,Keval).subs(r,reval).subs(vol,voleval).subs(T,Teval))\n",
    "#calcvega=float(vega.subs(S,Seval).subs(K,Keval).subs(r,reval).subs(vol,voleval).subs(T,Teval))\n",
    "#calcCtheta=float(calltheta.subs(S,Seval).subs(K,Keval).subs(r,reval).subs(vol,voleval).subs(T,Teval))\n",
    "#calcPtheta=float(puttheta.subs(S,Seval).subs(K,Keval).subs(r,reval).subs(vol,voleval).subs(T,Teval))\n",
    "#calcCrho=float(callrho.subs(S,Seval).subs(K,Keval).subs(r,reval).subs(vol,voleval).subs(T,Teval))\n",
    "#calcPrho=float(putrho.subs(S,Seval).subs(K,Keval).subs(r,reval).subs(vol,voleval).subs(T,Teval))\n",
    "\n",
    "# these are setting the above formulas to lambda/anonymous functions\n",
    "lambdaCallPrice = lambdify((S,K,r,vol,T),callpx)\n",
    "lambdaPutPrice = lambdify((S,K,r,vol,T),putpx)\n",
    "lambdaCallDelta = lambdify((S,K,r,vol,T),calldelta)\n",
    "lambdaPutDelta = lambdify((S,K,r,vol,T),putdelta)\n",
    "lambdaGamma = lambdify((S,K,r,vol,T),gamma)\n",
    "lambdaVega = lambdify((S,K,r,vol,T),vega)\n",
    "lambdaCallTheta = lambdify((S,K,r,vol,T),calltheta)\n",
    "lambdaPutTheta = lambdify((S,K,r,vol,T),puttheta)\n",
    "lambdaCallRho = lambdify((S,K,r,vol,T),callrho)\n",
    "lambdaPutRho = lambdify((S,K,r,vol,T),putrho)"
   ]
  },
  {
   "cell_type": "code",
   "execution_count": 11,
   "id": "b8516904",
   "metadata": {},
   "outputs": [
    {
     "name": "stdout",
     "output_type": "stream",
     "text": [
      "10.896302106433424\n",
      "8.457773331469124\n",
      "0.6368306511756191\n",
      "-0.3631693488243808\n",
      "0.015009613876677524\n",
      "18.762017345846896\n",
      "5.737765859079101\n",
      "3.359692297827316\n",
      "20.945230452347523\n",
      "-26.61624077268818\n"
     ]
    }
   ],
   "source": [
    "# This print the output of all 10 functions with variables: S,K,r,vol,T = 50,50,.05,.5,1\n",
    "print(lambdaCallPrice(50,50,.05,.5,1))\n",
    "print(lambdaPutPrice(50,50,.05,.5,1))\n",
    "print(lambdaCallDelta(50,50,.05,.5,1))\n",
    "print(lambdaPutDelta(50,50,.05,.5,1))\n",
    "print(lambdaGamma(50,50,.05,.5,1))\n",
    "print(lambdaVega(50,50,.05,.5,1))\n",
    "print(lambdaCallTheta(50,50,.05,.5,1))\n",
    "print(lambdaPutTheta(50,50,.05,.5,1))\n",
    "print(lambdaCallRho(50,50,.05,.5,1))\n",
    "print(lambdaPutRho(50,50,.05,.5,1))"
   ]
  },
  {
   "cell_type": "code",
   "execution_count": null,
   "id": "49324106",
   "metadata": {},
   "outputs": [],
   "source": []
  },
  {
   "cell_type": "code",
   "execution_count": null,
   "id": "67a9ebf7",
   "metadata": {},
   "outputs": [],
   "source": []
  }
 ],
 "metadata": {
  "kernelspec": {
   "display_name": "Python 3 (ipykernel)",
   "language": "python",
   "name": "python3"
  },
  "language_info": {
   "codemirror_mode": {
    "name": "ipython",
    "version": 3
   },
   "file_extension": ".py",
   "mimetype": "text/x-python",
   "name": "python",
   "nbconvert_exporter": "python",
   "pygments_lexer": "ipython3",
   "version": "3.7.11"
  }
 },
 "nbformat": 4,
 "nbformat_minor": 5
}
